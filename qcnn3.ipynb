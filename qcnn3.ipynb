{
 "cells": [
  {
   "cell_type": "code",
   "execution_count": 1,
   "id": "6b32a27d",
   "metadata": {},
   "outputs": [
    {
     "name": "stderr",
     "output_type": "stream",
     "text": [
      "Could not save font_manager cache [Errno 13] Permission denied: 'C:\\\\Users\\\\91720\\\\.matplotlib\\\\fontlist-v390.json.matplotlib-lock'\n",
      "d:\\QCNN\\.venv\\Lib\\site-packages\\tqdm\\auto.py:21: TqdmWarning: IProgress not found. Please update jupyter and ipywidgets. See https://ipywidgets.readthedocs.io/en/stable/user_install.html\n",
      "  from .autonotebook import tqdm as notebook_tqdm\n"
     ]
    },
    {
     "name": "stdout",
     "output_type": "stream",
     "text": [
      "WARNING:tensorflow:From d:\\QCNN\\.venv\\Lib\\site-packages\\keras\\src\\losses.py:2976: The name tf.losses.sparse_softmax_cross_entropy is deprecated. Please use tf.compat.v1.losses.sparse_softmax_cross_entropy instead.\n",
      "\n"
     ]
    }
   ],
   "source": [
    "import torch\n",
    "import torch.nn as nn\n",
    "import pennylane as qml\n",
    "import numpy as np\n",
    "from sklearn.model_selection import train_test_split\n",
    "from sklearn.preprocessing import MinMaxScaler\n",
    "from sklearn.metrics import accuracy_score, precision_score, recall_score, f1_score, roc_auc_score\n",
    "from imblearn.over_sampling import SMOTE\n",
    "import umap\n",
    "import matplotlib.pyplot as plt\n",
    "import pandas as pd\n",
    "import os\n",
    "import numpy as np\n",
    "from collections import Counter\n",
    "from torchsummary import summary\n",
    "from sklearn.metrics import classification_report, confusion_matrix\n",
    "import seaborn as sns"
   ]
  },
  {
   "cell_type": "code",
   "execution_count": 2,
   "id": "7c383135",
   "metadata": {},
   "outputs": [
    {
     "name": "stdout",
     "output_type": "stream",
     "text": [
      "\n",
      "✅ Label Mapping: {'Left': 0, 'Right': 1, 'Supine': 2}\n",
      "✅ Encoded Labels: [2, 2, 2, 2, 2, 2, 2, 2, 2, 2]\n"
     ]
    }
   ],
   "source": [
    "import os\n",
    "import pandas as pd\n",
    "import numpy as np\n",
    "\n",
    "labels_df = pd.read_csv(\"D:\\QCNN\\experiment-ii_labels.csv\")\n",
    "base_dir = \"D:\\QCNN\\experiment-ii\"\n",
    "\n",
    "file_paths, unique_labels = [], []\n",
    "X=[]\n",
    "for _, row in labels_df.iterrows():\n",
    "    subject = row[\"Subject\"].strip()\n",
    "    mat_type = row[\"Mat_Type\"].strip()\n",
    "    file_name = row[\"File_Name\"].strip()\n",
    "    label = row[\"Label\"].strip()\n",
    "\n",
    "    full_path = os.path.normpath(os.path.join(base_dir, subject, mat_type, file_name))\n",
    "\n",
    "    if os.path.exists(full_path):\n",
    "        file_paths.append(full_path)\n",
    "        unique_labels.append(label)\n",
    "    else:\n",
    "        print(\"❌ Missing file:\", os.path.abspath(full_path))\n",
    "\n",
    "    for path in file_paths:\n",
    "        try:\n",
    "            matrix = np.loadtxt(path)  # Assumes whitespace- or tab-delimited .txt files\n",
    "            X.append(matrix.flatten())  # Flatten 2D matrix to 1D\n",
    "        except Exception as e:\n",
    "            print(f\"Failed to load {path}: {e}\")\n",
    "\n",
    "label_mapping = {label: idx for idx, label in enumerate(sorted(set(unique_labels)))}\n",
    "labels = [label_mapping[lbl] for lbl in unique_labels]\n",
    "\n",
    "print(\"\\n✅ Label Mapping:\", label_mapping)\n",
    "print(\"✅ Encoded Labels:\", labels[:10])\n",
    "\n",
    "X = np.array(X)\n",
    "Y = np.array(labels)\n"
   ]
  },
  {
   "cell_type": "code",
   "execution_count": 5,
   "id": "7215a63a",
   "metadata": {},
   "outputs": [
    {
     "name": "stdout",
     "output_type": "stream",
     "text": [
      "Scaler saved to scaler3.pkl\n"
     ]
    }
   ],
   "source": [
    "import numpy as np\n",
    "from sklearn.preprocessing import MinMaxScaler\n",
    "import joblib\n",
    "import os\n",
    "\n",
    "# Sample check\n",
    "if len(X) == 0:\n",
    "    raise ValueError(\"Input data X is empty. Cannot fit the scaler.\")\n",
    "\n",
    "# Convert to 2D numpy array\n",
    "X = np.array(X)\n",
    "if X.ndim == 1:\n",
    "    X = X.reshape(-1, 1)  # Ensures it's 2D\n",
    "\n",
    "# Now fit and save\n",
    "scaler = MinMaxScaler()\n",
    "X_scaled = scaler.fit_transform(X)\n",
    "\n",
    "os.makedirs(\"preprocess\", exist_ok=True)\n",
    "joblib.dump(scaler, 'scaler3.pkl')\n",
    "print(\"Scaler saved to scaler3.pkl\")\n"
   ]
  },
  {
   "cell_type": "code",
   "execution_count": 4,
   "id": "99c8a4ae",
   "metadata": {},
   "outputs": [
    {
     "ename": "NameError",
     "evalue": "name 'X_scaled' is not defined",
     "output_type": "error",
     "traceback": [
      "\u001b[31m---------------------------------------------------------------------------\u001b[39m",
      "\u001b[31mNameError\u001b[39m                                 Traceback (most recent call last)",
      "\u001b[36mCell\u001b[39m\u001b[36m \u001b[39m\u001b[32mIn[4]\u001b[39m\u001b[32m, line 24\u001b[39m\n\u001b[32m     21\u001b[39m     \u001b[38;5;28;01mdef\u001b[39;00m\u001b[38;5;250m \u001b[39m\u001b[34mencode\u001b[39m(\u001b[38;5;28mself\u001b[39m, x):\n\u001b[32m     22\u001b[39m         \u001b[38;5;28;01mreturn\u001b[39;00m \u001b[38;5;28mself\u001b[39m.encoder(x)\n\u001b[32m---> \u001b[39m\u001b[32m24\u001b[39m input_dim = \u001b[43mX_scaled\u001b[49m.shape[\u001b[32m1\u001b[39m]\n\u001b[32m     25\u001b[39m bottleneck_dim = \u001b[32m50\u001b[39m\n\u001b[32m     26\u001b[39m autoencoder = AutoEncoder(input_dim, bottleneck_dim)\n",
      "\u001b[31mNameError\u001b[39m: name 'X_scaled' is not defined"
     ]
    }
   ],
   "source": [
    "# 2. Autoencoder for initial dimensionality reduction\n",
    "class AutoEncoder(nn.Module):\n",
    "    def __init__(self, input_dim, bottleneck_dim):\n",
    "        super(AutoEncoder, self).__init__()\n",
    "        self.encoder = nn.Sequential(\n",
    "            nn.Linear(input_dim, 128),\n",
    "            nn.ReLU(),\n",
    "            nn.Linear(128, bottleneck_dim),\n",
    "        )\n",
    "        self.decoder = nn.Sequential(\n",
    "            nn.Linear(bottleneck_dim, 128),\n",
    "            nn.ReLU(),\n",
    "            nn.Linear(128, input_dim),\n",
    "            nn.Sigmoid()\n",
    "        )\n",
    "\n",
    "    def forward(self, x):\n",
    "        encoded = self.encoder(x)\n",
    "        return self.decoder(encoded)\n",
    "\n",
    "    def encode(self, x):\n",
    "        return self.encoder(x)\n",
    "\n",
    "input_dim = X_scaled.shape[1]\n",
    "bottleneck_dim = 50\n",
    "autoencoder = AutoEncoder(input_dim, bottleneck_dim)\n",
    "criterion = nn.MSELoss()\n",
    "optimizer = torch.optim.Adam(autoencoder.parameters(), lr=0.001)"
   ]
  },
  {
   "cell_type": "code",
   "execution_count": null,
   "id": "71ad73aa",
   "metadata": {},
   "outputs": [],
   "source": [
    "# Train Autoencoder\n",
    "X_tensor = torch.tensor(X_scaled, dtype=torch.float32)\n",
    "for epoch in range(100):\n",
    "    optimizer.zero_grad()\n",
    "    output = autoencoder(X_tensor)\n",
    "    loss = criterion(output, X_tensor)\n",
    "    loss.backward()\n",
    "    optimizer.step()\n",
    "\n",
    "X_encoded = autoencoder.encode(X_tensor).detach().numpy()"
   ]
  },
  {
   "cell_type": "code",
   "execution_count": null,
   "id": "3daa97cc",
   "metadata": {},
   "outputs": [
    {
     "name": "stderr",
     "output_type": "stream",
     "text": [
      "d:\\QCNN\\.venv\\Lib\\site-packages\\sklearn\\utils\\deprecation.py:151: FutureWarning: 'force_all_finite' was renamed to 'ensure_all_finite' in 1.6 and will be removed in 1.8.\n",
      "  warnings.warn(\n",
      "d:\\QCNN\\.venv\\Lib\\site-packages\\umap\\umap_.py:1952: UserWarning: n_jobs value 1 overridden to 1 by setting random_state. Use no seed for parallelism.\n",
      "  warn(\n"
     ]
    },
    {
     "data": {
      "text/plain": [
       "['umap3_model.pkl']"
      ]
     },
     "execution_count": 7,
     "metadata": {},
     "output_type": "execute_result"
    }
   ],
   "source": [
    "# 3. UMAP for further dimensionality reduction (to match qubit count)\n",
    "n_qubits = 11\n",
    "umap_model = umap.UMAP(n_components=n_qubits, random_state=42)\n",
    "X_umap = umap_model.fit_transform(X_encoded)\n",
    "\n",
    "import joblib\n",
    "joblib.dump(umap_model, \"umap3_model.pkl\")"
   ]
  },
  {
   "cell_type": "code",
   "execution_count": 18,
   "id": "4753bbe6",
   "metadata": {},
   "outputs": [
    {
     "name": "stdout",
     "output_type": "stream",
     "text": [
      "Class distribution after SMOTE:\n",
      "Label 2: 271 samples\n",
      "Label 1: 271 samples\n",
      "Label 0: 271 samples\n"
     ]
    }
   ],
   "source": [
    "# 4. Handle class imbalance using SMOTE\n",
    "smote = SMOTE()\n",
    "X_resampled, y_resampled = smote.fit_resample(X_umap, Y)\n",
    "\n",
    "# Print class distribution after SMOTE\n",
    "label_counts = Counter(y_resampled)\n",
    "print(\"Class distribution after SMOTE:\")\n",
    "for label, count in label_counts.items():\n",
    "    print(f\"Label {label}: {count} samples\")"
   ]
  },
  {
   "cell_type": "code",
   "execution_count": 12,
   "id": "b7fb6ec2",
   "metadata": {},
   "outputs": [
    {
     "ename": "NameError",
     "evalue": "name 'X_resampled' is not defined",
     "output_type": "error",
     "traceback": [
      "\u001b[31m---------------------------------------------------------------------------\u001b[39m",
      "\u001b[31mNameError\u001b[39m                                 Traceback (most recent call last)",
      "\u001b[36mCell\u001b[39m\u001b[36m \u001b[39m\u001b[32mIn[12]\u001b[39m\u001b[32m, line 2\u001b[39m\n\u001b[32m      1\u001b[39m \u001b[38;5;66;03m# 5. Train/Test split\u001b[39;00m\n\u001b[32m----> \u001b[39m\u001b[32m2\u001b[39m X_train, X_test, y_train, y_test = train_test_split(\u001b[43mX_resampled\u001b[49m, y_resampled, test_size=\u001b[32m0.2\u001b[39m, random_state=\u001b[32m42\u001b[39m)\n",
      "\u001b[31mNameError\u001b[39m: name 'X_resampled' is not defined"
     ]
    }
   ],
   "source": [
    "# 5. Train/Test split\n",
    "X_train, X_test, y_train, y_test = train_test_split(X_resampled, y_resampled, test_size=0.2, random_state=42)"
   ]
  },
  {
   "cell_type": "code",
   "execution_count": 25,
   "id": "8bc7522d",
   "metadata": {},
   "outputs": [],
   "source": [
    "# 6. PennyLane Quantum Circuit \n",
    "num_qubits=11\n",
    "num_layers=6\n",
    "dev = qml.device(\"default.qubit\", wires=n_qubits)"
   ]
  },
  {
   "cell_type": "code",
   "execution_count": 3,
   "id": "64547dc3",
   "metadata": {},
   "outputs": [],
   "source": [
    "def QuantumConvLayer(inputs, weights):\n",
    "    dev = qml.device(\"default.qubit\", wires=num_qubits)\n",
    "\n",
    "    @qml.qnode(dev, interface=\"torch\")\n",
    "    def circuit(x, w):\n",
    "        qml.AngleEmbedding(x, wires=range(num_qubits), rotation='Y')\n",
    "\n",
    "        for l in range(num_layers):\n",
    "            for i in range(num_qubits):\n",
    "                qml.RY(w[l, i, 0], wires=i)\n",
    "                qml.RZ(w[l, i, 1], wires=i)\n",
    "\n",
    "            # Entanglement: First ring\n",
    "            for i in range(num_qubits - 1):\n",
    "                qml.CNOT(wires=[i, i + 1])\n",
    "            qml.CNOT(wires=[num_qubits - 1, 0])  # close the ring\n",
    "\n",
    "            # Optional: Add another layer for deeper entanglement\n",
    "            for i in range(num_qubits):\n",
    "                qml.CRX(w[l, i, 0], wires=[i, (i + 2) % num_qubits])\n",
    "\n",
    "        return [qml.expval(qml.PauliZ(i)) for i in range(num_qubits)]\n",
    "\n",
    "    return circuit(inputs, weights)\n"
   ]
  },
  {
   "cell_type": "code",
   "execution_count": 4,
   "id": "fb7853e8",
   "metadata": {},
   "outputs": [],
   "source": [
    "def QuantumPoolingLayer(inputs):\n",
    "    dev = qml.device(\"default.qubit\", wires=num_qubits)\n",
    "\n",
    "    @qml.qnode(dev, interface=\"torch\")\n",
    "    def circuit(x):\n",
    "        qml.AngleEmbedding(x, wires=range(num_qubits), rotation='Y')\n",
    "\n",
    "        # Compress even+odd wires together\n",
    "        for i in range(0, num_qubits - 1, 2):\n",
    "            qml.CRY(np.pi / 2, wires=[i, i + 1])\n",
    "            qml.CZ(wires=[i, i + 1])\n",
    "\n",
    "        # Interference via H and S gates\n",
    "        for i in range(num_qubits):\n",
    "            qml.Hadamard(wires=i)\n",
    "            qml.S(wires=i)\n",
    "\n",
    "        return [qml.expval(qml.PauliZ(i)) for i in range(num_qubits)]\n",
    "\n",
    "    return circuit(inputs)\n"
   ]
  },
  {
   "cell_type": "code",
   "execution_count": 6,
   "id": "b2877470",
   "metadata": {},
   "outputs": [],
   "source": [
    "class QCNN(nn.Module):\n",
    "    def __init__(self, num_qubits, num_layers, num_classes):\n",
    "        super(QCNN, self).__init__()\n",
    "        self.num_qubits = num_qubits\n",
    "        self.num_layers = num_layers\n",
    "        self.q_params = nn.Parameter(0.01 * torch.randn(num_layers, num_qubits, 2))\n",
    "\n",
    "        # Fully Connected Layers with LayerNorm and Dropout\n",
    "        self.fc1 = nn.Linear(num_qubits, 128)\n",
    "        self.norm1 = nn.LayerNorm(128)\n",
    "        self.fc2 = nn.Linear(128, 64)\n",
    "        self.norm2 = nn.LayerNorm(64)\n",
    "        self.fc3 = nn.Linear(64, 32)\n",
    "        self.norm3 = nn.LayerNorm(32)\n",
    "        self.fc4 = nn.Linear(32, 16)\n",
    "        self.out = nn.Linear(16, num_classes)\n",
    "\n",
    "    def forward(self, x, return_quantum_features=False):\n",
    "        x = x.view(x.shape[0], -1)\n",
    "        quantum_outputs = []\n",
    "\n",
    "        for sample in x:\n",
    "            conv_out = QuantumConvLayer(sample, self.q_params)\n",
    "            pool_out = QuantumPoolingLayer(torch.tensor(conv_out, dtype=torch.float32))\n",
    "            quantum_outputs.append(torch.tensor(pool_out, dtype=torch.float32))\n",
    "\n",
    "        x = torch.stack(quantum_outputs).to(x.device)\n",
    "\n",
    "        if return_quantum_features:\n",
    "            logits = self.out(self.fc4(self.fc3(self.fc2(self.fc1(x)))))\n",
    "            return logits, x\n",
    "\n",
    "        x = F.relu(self.norm1(self.fc1(x)))\n",
    "        x = F.dropout(x, p=0.3)\n",
    "\n",
    "        x = F.relu(self.norm2(self.fc2(x)))\n",
    "        x = F.dropout(x, p=0.2)\n",
    "\n",
    "        x = F.relu(self.norm3(self.fc3(x)))\n",
    "        x = F.dropout(x, p=0.1)\n",
    "\n",
    "        x = F.relu(self.fc4(x))\n",
    "        return self.out(x)"
   ]
  },
  {
   "cell_type": "code",
   "execution_count": 7,
   "id": "6583c1f3",
   "metadata": {},
   "outputs": [],
   "source": [
    "# 6. Initialize\n",
    "num_layers=6\n",
    "num_qubits=11\n",
    "num_classes=3\n",
    "model = QCNN(num_qubits,num_layers,num_classes)\n",
    "criterion = nn.CrossEntropyLoss(weight=torch.tensor([1.0, 1.0, 1.0]))  # Update with true class weights\n",
    "optimizer = torch.optim.Adam(model.parameters(), lr=0.001)\n",
    "scheduler = torch.optim.lr_scheduler.StepLR(optimizer, step_size=10, gamma=0.6)\n",
    "device = torch.device(\"cuda\" if torch.cuda.is_available() else \"cpu\")"
   ]
  },
  {
   "cell_type": "code",
   "execution_count": 12,
   "id": "5ab2397b",
   "metadata": {},
   "outputs": [
    {
     "name": "stdout",
     "output_type": "stream",
     "text": [
      "=== QCNN Architecture Summary ===\n",
      "QCNN(\n",
      "  (fc1): Linear(in_features=11, out_features=128, bias=True)\n",
      "  (norm1): LayerNorm((128,), eps=1e-05, elementwise_affine=True)\n",
      "  (fc2): Linear(in_features=128, out_features=64, bias=True)\n",
      "  (norm2): LayerNorm((64,), eps=1e-05, elementwise_affine=True)\n",
      "  (fc3): Linear(in_features=64, out_features=32, bias=True)\n",
      "  (norm3): LayerNorm((32,), eps=1e-05, elementwise_affine=True)\n",
      "  (fc4): Linear(in_features=32, out_features=16, bias=True)\n",
      "  (out): Linear(in_features=16, out_features=4, bias=True)\n",
      ")\n",
      "\n",
      "Quantum Parameters Shape: torch.Size([3, 11, 2])\n",
      "\n",
      "=== Named Parameters ===\n",
      "q_params: torch.Size([3, 11, 2])\n",
      "fc1.weight: torch.Size([128, 11])\n",
      "fc1.bias: torch.Size([128])\n",
      "norm1.weight: torch.Size([128])\n",
      "norm1.bias: torch.Size([128])\n",
      "fc2.weight: torch.Size([64, 128])\n",
      "fc2.bias: torch.Size([64])\n",
      "norm2.weight: torch.Size([64])\n",
      "norm2.bias: torch.Size([64])\n",
      "fc3.weight: torch.Size([32, 64])\n",
      "fc3.bias: torch.Size([32])\n",
      "norm3.weight: torch.Size([32])\n",
      "norm3.bias: torch.Size([32])\n",
      "fc4.weight: torch.Size([16, 32])\n",
      "fc4.bias: torch.Size([16])\n",
      "out.weight: torch.Size([4, 16])\n",
      "out.bias: torch.Size([4])\n"
     ]
    }
   ],
   "source": [
    "model = QCNN(num_qubits=11, num_layers=3, num_classes=4)\n",
    "\n",
    "print(\"=== QCNN Architecture Summary ===\")\n",
    "print(model)\n",
    "print(\"\\nQuantum Parameters Shape:\", model.q_params.shape)\n",
    "\n",
    "print(\"\\n=== Named Parameters ===\")\n",
    "for name, param in model.named_parameters():\n",
    "    print(f\"{name}: {param.shape}\")\n"
   ]
  },
  {
   "cell_type": "code",
   "execution_count": 11,
   "id": "3d1926e9",
   "metadata": {},
   "outputs": [
    {
     "ename": "NameError",
     "evalue": "name 'X_train' is not defined",
     "output_type": "error",
     "traceback": [
      "\u001b[31m---------------------------------------------------------------------------\u001b[39m",
      "\u001b[31mNameError\u001b[39m                                 Traceback (most recent call last)",
      "\u001b[36mCell\u001b[39m\u001b[36m \u001b[39m\u001b[32mIn[11]\u001b[39m\u001b[32m, line 2\u001b[39m\n\u001b[32m      1\u001b[39m \u001b[38;5;66;03m# Convert numpy arrays to PyTorch tensors\u001b[39;00m\n\u001b[32m----> \u001b[39m\u001b[32m2\u001b[39m X_train_tensor = torch.tensor(\u001b[43mX_train\u001b[49m, dtype=torch.float32)\n\u001b[32m      3\u001b[39m X_test_tensor = torch.tensor(X_test, dtype=torch.float32)\n\u001b[32m      4\u001b[39m y_train_tensor = torch.tensor(y_train, dtype=torch.long)\n",
      "\u001b[31mNameError\u001b[39m: name 'X_train' is not defined"
     ]
    }
   ],
   "source": [
    "# Convert numpy arrays to PyTorch tensors\n",
    "X_train_tensor = torch.tensor(X_train, dtype=torch.float32)\n",
    "X_test_tensor = torch.tensor(X_test, dtype=torch.float32)\n",
    "y_train_tensor = torch.tensor(y_train, dtype=torch.long)\n",
    "y_test_tensor = torch.tensor(y_test, dtype=torch.long)\n",
    "\n"
   ]
  },
  {
   "cell_type": "code",
   "execution_count": 30,
   "id": "6b25a5e4",
   "metadata": {},
   "outputs": [],
   "source": [
    "from torch.utils.data import TensorDataset, DataLoader\n",
    "\n",
    "batch_size = 16\n",
    "\n",
    "train_dataset = TensorDataset(X_train_tensor, y_train_tensor)\n",
    "test_dataset = TensorDataset(X_test_tensor, y_test_tensor)\n",
    "\n",
    "train_loader = DataLoader(train_dataset, batch_size=batch_size, shuffle=True)\n",
    "test_loader = DataLoader(test_dataset, batch_size=batch_size, shuffle=False)"
   ]
  },
  {
   "cell_type": "code",
   "execution_count": 34,
   "id": "16494744",
   "metadata": {},
   "outputs": [
    {
     "name": "stdout",
     "output_type": "stream",
     "text": [
      "Epoch [1/30]\n",
      "  Train    -> Loss: 1.1014, Accuracy: 33.08%\n",
      "  Validate -> Loss: 1.1023, Accuracy: 33.13%\n",
      "\n",
      "Epoch [2/30]\n",
      "  Train    -> Loss: 1.0964, Accuracy: 35.08%\n",
      "  Validate -> Loss: 1.0715, Accuracy: 44.79%\n",
      "\n",
      "Epoch [3/30]\n",
      "  Train    -> Loss: 1.0743, Accuracy: 38.62%\n",
      "  Validate -> Loss: 1.0503, Accuracy: 42.33%\n",
      "\n",
      "Epoch [4/30]\n",
      "  Train    -> Loss: 1.0404, Accuracy: 44.00%\n",
      "  Validate -> Loss: 1.0159, Accuracy: 50.92%\n",
      "\n",
      "Epoch [5/30]\n",
      "  Train    -> Loss: 0.9529, Accuracy: 53.38%\n",
      "  Validate -> Loss: 0.9219, Accuracy: 53.99%\n",
      "\n",
      "Epoch [6/30]\n",
      "  Train    -> Loss: 0.8969, Accuracy: 56.62%\n",
      "  Validate -> Loss: 0.9355, Accuracy: 52.76%\n",
      "\n",
      "Epoch [7/30]\n",
      "  Train    -> Loss: 0.8672, Accuracy: 60.46%\n",
      "  Validate -> Loss: 0.8907, Accuracy: 58.90%\n",
      "\n",
      "Epoch [8/30]\n",
      "  Train    -> Loss: 0.8230, Accuracy: 63.54%\n",
      "  Validate -> Loss: 0.8397, Accuracy: 57.67%\n",
      "\n",
      "Epoch [9/30]\n",
      "  Train    -> Loss: 0.7924, Accuracy: 64.46%\n",
      "  Validate -> Loss: 0.8115, Accuracy: 61.35%\n",
      "\n",
      "Epoch [10/30]\n",
      "  Train    -> Loss: 0.7777, Accuracy: 66.00%\n",
      "  Validate -> Loss: 0.7928, Accuracy: 64.42%\n",
      "\n",
      "Epoch [11/30]\n",
      "  Train    -> Loss: 0.7286, Accuracy: 69.85%\n",
      "  Validate -> Loss: 0.7873, Accuracy: 65.03%\n",
      "\n",
      "Epoch [12/30]\n",
      "  Train    -> Loss: 0.7331, Accuracy: 71.08%\n",
      "  Validate -> Loss: 0.7774, Accuracy: 66.26%\n",
      "\n",
      "Epoch [13/30]\n",
      "  Train    -> Loss: 0.7090, Accuracy: 71.38%\n",
      "  Validate -> Loss: 0.6951, Accuracy: 71.78%\n",
      "\n",
      "Epoch [14/30]\n",
      "  Train    -> Loss: 0.7078, Accuracy: 71.38%\n",
      "  Validate -> Loss: 0.7263, Accuracy: 71.78%\n",
      "\n",
      "Epoch [15/30]\n",
      "  Train    -> Loss: 0.6827, Accuracy: 73.69%\n",
      "  Validate -> Loss: 0.7370, Accuracy: 70.55%\n",
      "\n",
      "Epoch [16/30]\n",
      "  Train    -> Loss: 0.6765, Accuracy: 71.69%\n",
      "  Validate -> Loss: 0.6519, Accuracy: 72.39%\n",
      "\n",
      "Epoch [17/30]\n",
      "  Train    -> Loss: 0.6963, Accuracy: 73.38%\n",
      "  Validate -> Loss: 0.7256, Accuracy: 69.33%\n",
      "\n",
      "Epoch [18/30]\n",
      "  Train    -> Loss: 0.6698, Accuracy: 75.23%\n",
      "  Validate -> Loss: 0.7227, Accuracy: 69.94%\n",
      "\n",
      "Epoch [19/30]\n",
      "  Train    -> Loss: 0.6628, Accuracy: 73.85%\n",
      "  Validate -> Loss: 0.7168, Accuracy: 69.94%\n",
      "\n",
      "Epoch [20/30]\n",
      "  Train    -> Loss: 0.6498, Accuracy: 75.54%\n",
      "  Validate -> Loss: 0.7170, Accuracy: 68.10%\n",
      "\n",
      "Epoch [21/30]\n",
      "  Train    -> Loss: 0.6602, Accuracy: 73.69%\n",
      "  Validate -> Loss: 0.6914, Accuracy: 71.78%\n",
      "\n",
      "Epoch [22/30]\n",
      "  Train    -> Loss: 0.6414, Accuracy: 74.15%\n",
      "  Validate -> Loss: 0.7021, Accuracy: 73.62%\n",
      "\n",
      "Epoch [23/30]\n",
      "  Train    -> Loss: 0.6500, Accuracy: 74.31%\n",
      "  Validate -> Loss: 0.7135, Accuracy: 70.55%\n",
      "\n",
      "Epoch [24/30]\n",
      "  Train    -> Loss: 0.6474, Accuracy: 75.54%\n",
      "  Validate -> Loss: 0.7078, Accuracy: 72.39%\n",
      "\n",
      "Epoch [25/30]\n",
      "  Train    -> Loss: 0.6187, Accuracy: 76.31%\n",
      "  Validate -> Loss: 0.7326, Accuracy: 71.17%\n",
      "\n",
      "Epoch [26/30]\n",
      "  Train    -> Loss: 0.6455, Accuracy: 74.46%\n",
      "  Validate -> Loss: 0.6963, Accuracy: 72.39%\n",
      "\n",
      "Epoch [27/30]\n",
      "  Train    -> Loss: 0.6218, Accuracy: 76.15%\n",
      "  Validate -> Loss: 0.7041, Accuracy: 71.17%\n",
      "\n",
      "Epoch [28/30]\n",
      "  Train    -> Loss: 0.6209, Accuracy: 75.85%\n",
      "  Validate -> Loss: 0.7227, Accuracy: 71.17%\n",
      "\n",
      "Epoch [29/30]\n",
      "  Train    -> Loss: 0.6291, Accuracy: 75.69%\n",
      "  Validate -> Loss: 0.7469, Accuracy: 66.87%\n",
      "\n",
      "Epoch [30/30]\n",
      "  Train    -> Loss: 0.6308, Accuracy: 75.23%\n",
      "  Validate -> Loss: 0.6974, Accuracy: 69.33%\n",
      "\n"
     ]
    }
   ],
   "source": [
    "# Trackers\n",
    "train_losses = []\n",
    "train_accuracies = []\n",
    "val_losses = []\n",
    "val_accuracies = []\n",
    "\n",
    "n_epochs = 30\n",
    "\n",
    "for epoch in range(n_epochs):\n",
    "    # ---------- TRAINING ----------\n",
    "    model.train()\n",
    "    train_loss = 0.0\n",
    "    correct_train = 0\n",
    "    total_train = 0\n",
    "\n",
    "    for inputs, labels in train_loader:\n",
    "        inputs, labels = inputs.to(device), labels.to(device)\n",
    "\n",
    "        optimizer.zero_grad()\n",
    "        outputs = model(inputs)\n",
    "\n",
    "        loss = criterion(outputs, labels)\n",
    "        loss.backward()\n",
    "        optimizer.step()\n",
    "\n",
    "        train_loss += loss.item() * inputs.size(0)\n",
    "        _, predicted = torch.max(outputs, 1)\n",
    "        correct_train += (predicted == labels).sum().item()\n",
    "        total_train += labels.size(0)\n",
    "\n",
    "    avg_train_loss = train_loss / total_train\n",
    "    train_accuracy = correct_train / total_train\n",
    "    train_losses.append(avg_train_loss)\n",
    "    train_accuracies.append(train_accuracy)\n",
    "\n",
    "    # ---------- VALIDATION ----------\n",
    "    model.eval()\n",
    "    val_loss = 0.0\n",
    "    correct_val = 0\n",
    "    total_val = 0\n",
    "\n",
    "    with torch.no_grad():\n",
    "        for inputs, labels in test_loader:\n",
    "            inputs, labels = inputs.to(device), labels.to(device)\n",
    "            outputs = model(inputs)\n",
    "\n",
    "            loss = criterion(outputs, labels)\n",
    "            val_loss += loss.item() * inputs.size(0)\n",
    "            _, predicted = torch.max(outputs, 1)\n",
    "            correct_val += (predicted == labels).sum().item()\n",
    "            total_val += labels.size(0)\n",
    "\n",
    "    avg_val_loss = val_loss / total_val\n",
    "    val_accuracy = correct_val / total_val\n",
    "    val_losses.append(avg_val_loss)\n",
    "    val_accuracies.append(val_accuracy)\n",
    "\n",
    "    # ---------- LOG ----------\n",
    "    print(f\"Epoch [{epoch+1}/{n_epochs}]\")\n",
    "    print(f\"  Train    -> Loss: {avg_train_loss:.4f}, Accuracy: {train_accuracy*100:.2f}%\")\n",
    "    print(f\"  Validate -> Loss: {avg_val_loss:.4f}, Accuracy: {val_accuracy*100:.2f}%\\n\")\n"
   ]
  },
  {
   "cell_type": "code",
   "execution_count": 35,
   "id": "6d48e974",
   "metadata": {},
   "outputs": [
    {
     "name": "stdout",
     "output_type": "stream",
     "text": [
      "---------- FINAL TEST RESULTS ----------\n",
      "Test Loss: 0.6488\n",
      "Test Accuracy: 74.23%\n"
     ]
    }
   ],
   "source": [
    "# ---------- TESTING ----------\n",
    "model.eval()\n",
    "test_loss = 0.0\n",
    "correct_test = 0\n",
    "total_test = 0\n",
    "\n",
    "with torch.no_grad():\n",
    "    for inputs, labels in test_loader:\n",
    "        inputs, labels = inputs.to(device), labels.to(device)\n",
    "        outputs = model(inputs)\n",
    "\n",
    "        loss = criterion(outputs, labels)\n",
    "        test_loss += loss.item() * inputs.size(0)\n",
    "        _, predicted = torch.max(outputs, 1)\n",
    "        correct_test += (predicted == labels).sum().item()\n",
    "        total_test += labels.size(0)\n",
    "\n",
    "avg_test_loss = test_loss / total_test\n",
    "test_accuracy = correct_test / total_test\n",
    "\n",
    "print(\"---------- FINAL TEST RESULTS ----------\")\n",
    "print(f\"Test Loss: {avg_test_loss:.4f}\")\n",
    "print(f\"Test Accuracy: {test_accuracy * 100:.2f}%\")\n"
   ]
  },
  {
   "cell_type": "code",
   "execution_count": 36,
   "id": "c4d6aaa1",
   "metadata": {},
   "outputs": [
    {
     "name": "stdout",
     "output_type": "stream",
     "text": [
      "✅ Trained QCNN model  saved as 'qcnn3_model.pth'\n"
     ]
    }
   ],
   "source": [
    "# Assume `model` is your trained QCNN instance\n",
    "torch.save(model.state_dict(), \"qcnn3_model.pth\")\n",
    "print(\"✅ Trained QCNN model  saved as 'qcnn3_model.pth'\")\n"
   ]
  },
  {
   "cell_type": "code",
   "execution_count": 38,
   "id": "fa7caf63",
   "metadata": {},
   "outputs": [
    {
     "data": {
      "image/png": "[encoded data removed]",
      "text/plain": [
       "<Figure size 1200x500 with 2 Axes>"
      ]
     },
     "metadata": {},
     "output_type": "display_data"
    }
   ],
   "source": [
    "# -------- Loss & Accuracy Curves --------\n",
    "plt.figure(figsize=(12, 5))\n",
    "\n",
    "plt.subplot(1, 2, 1)\n",
    "plt.plot(train_losses, label=\"Train Loss\")\n",
    "plt.plot(val_losses, label=\"Validation Loss\")\n",
    "plt.xlabel(\"Epochs\")\n",
    "plt.ylabel(\"Loss\")\n",
    "plt.title(\"Loss Curve\")\n",
    "plt.legend()\n",
    "plt.grid(True)\n",
    "\n",
    "plt.subplot(1, 2, 2)\n",
    "plt.plot(train_accuracies, label=\"Train Accuracy\")\n",
    "plt.plot(val_accuracies, label=\"Validation Accuracy\")\n",
    "plt.xlabel(\"Epochs\")\n",
    "plt.ylabel(\"Accuracy\")\n",
    "plt.title(\"Accuracy Curve\")\n",
    "plt.legend()\n",
    "plt.grid(True)\n",
    "\n",
    "plt.tight_layout()\n",
    "plt.show()"
   ]
  },
  {
   "cell_type": "code",
   "execution_count": 40,
   "id": "c94a8162",
   "metadata": {},
   "outputs": [
    {
     "name": "stdout",
     "output_type": "stream",
     "text": [
      "---------- CLASSIFICATION REPORT ----------\n",
      "              precision    recall  f1-score   support\n",
      "\n",
      "           0       0.64      0.88      0.74        51\n",
      "           1       0.77      0.84      0.80        56\n",
      "           2       0.78      0.45      0.57        56\n",
      "\n",
      "    accuracy                           0.72       163\n",
      "   macro avg       0.73      0.72      0.71       163\n",
      "weighted avg       0.73      0.72      0.70       163\n",
      "\n"
     ]
    },
    {
     "data": {
      "image/png": "[encoded data removed]",
      "text/plain": [
       "<Figure size 800x600 with 2 Axes>"
      ]
     },
     "metadata": {},
     "output_type": "display_data"
    }
   ],
   "source": [
    "# Collect all predictions and true labels\n",
    "all_preds = []\n",
    "all_labels = []\n",
    "\n",
    "model.eval()\n",
    "with torch.no_grad():\n",
    "    for inputs, labels in test_loader:\n",
    "        inputs, labels = inputs.to(device), labels.to(device)\n",
    "        outputs = model(inputs)\n",
    "        _, predicted = torch.max(outputs, 1)\n",
    "        all_preds.extend(predicted.cpu().numpy())\n",
    "        all_labels.extend(labels.cpu().numpy())\n",
    "\n",
    "# Classification report\n",
    "print(\"---------- CLASSIFICATION REPORT ----------\")\n",
    "print(classification_report(all_labels, all_preds))\n",
    "\n",
    "# Confusion matrix\n",
    "cm = confusion_matrix(all_labels, all_preds)\n",
    "plt.figure(figsize=(8,6))\n",
    "sns.heatmap(cm, annot=True, fmt='d', cmap=\"Blues\", xticklabels=label_mapping.keys(), yticklabels=label_mapping.keys())\n",
    "plt.xlabel(\"Predicted\")\n",
    "plt.ylabel(\"True\")\n",
    "plt.title(\"Confusion Matrix\")\n",
    "plt.tight_layout()\n",
    "plt.show()\n"
   ]
  },
  {
   "cell_type": "code",
   "execution_count": 13,
   "id": "3bc2d7df",
   "metadata": {},
   "outputs": [
    {
     "data": {
      "image/png": "[encoded data removed]",
      "text/plain": [
       "<Figure size 640x480 with 2 Axes>"
      ]
     },
     "metadata": {},
     "output_type": "display_data"
    },
    {
     "ename": "NameError",
     "evalue": "name 'scaler' is not defined",
     "output_type": "error",
     "traceback": [
      "\u001b[31m---------------------------------------------------------------------------\u001b[39m",
      "\u001b[31mNameError\u001b[39m                                 Traceback (most recent call last)",
      "\u001b[36mCell\u001b[39m\u001b[36m \u001b[39m\u001b[32mIn[13]\u001b[39m\u001b[32m, line 45\u001b[39m\n\u001b[32m     41\u001b[39m     \u001b[38;5;28mprint\u001b[39m(label_mapping)\n\u001b[32m     43\u001b[39m     \u001b[38;5;28mprint\u001b[39m(\u001b[33mf\u001b[39m\u001b[33m\"\u001b[39m\u001b[33mPredicted Posture: \u001b[39m\u001b[38;5;132;01m{\u001b[39;00mreverse_label_mapping.get(pred,\u001b[38;5;250m \u001b[39m\u001b[33m'\u001b[39m\u001b[33mUnknown\u001b[39m\u001b[33m'\u001b[39m)\u001b[38;5;132;01m}\u001b[39;00m\u001b[33m\"\u001b[39m)\n\u001b[32m---> \u001b[39m\u001b[32m45\u001b[39m \u001b[43mpredict_from_file\u001b[49m\u001b[43m(\u001b[49m\u001b[33;43m\"\u001b[39;49m\u001b[33;43mD:/QCNN/experiment-ii/S1/Sponge_Mat/Matrix_Sponge_C1.txt\u001b[39;49m\u001b[33;43m\"\u001b[39;49m\u001b[43m)\u001b[49m\n",
      "\u001b[36mCell\u001b[39m\u001b[36m \u001b[39m\u001b[32mIn[13]\u001b[39m\u001b[32m, line 18\u001b[39m, in \u001b[36mpredict_from_file\u001b[39m\u001b[34m(file_path)\u001b[39m\n\u001b[32m     15\u001b[39m matrix_flat = matrix.flatten().reshape(\u001b[32m1\u001b[39m, -\u001b[32m1\u001b[39m)\n\u001b[32m     17\u001b[39m \u001b[38;5;66;03m# Now check shape match\u001b[39;00m\n\u001b[32m---> \u001b[39m\u001b[32m18\u001b[39m \u001b[38;5;28;01mif\u001b[39;00m matrix_flat.shape[\u001b[32m1\u001b[39m] != \u001b[43mscaler\u001b[49m.n_features_in_:\n\u001b[32m     19\u001b[39m     \u001b[38;5;28;01mraise\u001b[39;00m \u001b[38;5;167;01mValueError\u001b[39;00m(\u001b[33mf\u001b[39m\u001b[33m\"\u001b[39m\u001b[33mExpected \u001b[39m\u001b[38;5;132;01m{\u001b[39;00mscaler.n_features_in_\u001b[38;5;132;01m}\u001b[39;00m\u001b[33m features, but got \u001b[39m\u001b[38;5;132;01m{\u001b[39;00mmatrix_flat.shape[\u001b[32m1\u001b[39m]\u001b[38;5;132;01m}\u001b[39;00m\u001b[33m\"\u001b[39m)\n\u001b[32m     21\u001b[39m matrix_scaled = scaler.transform(matrix_flat)\n",
      "\u001b[31mNameError\u001b[39m: name 'scaler' is not defined"
     ]
    }
   ],
   "source": [
    "# Prediction function\n",
    "def predict_from_file(file_path):\n",
    "    if not os.path.exists(file_path):\n",
    "        print(\"File does not exist.\")\n",
    "        return\n",
    "\n",
    "    # Load and visualize pressure matrix\n",
    "    matrix = np.loadtxt(file_path)\n",
    "    plt.imshow(matrix, cmap='hot', interpolation='nearest')\n",
    "    plt.title(\"Pressure Matrix Heatmap\")\n",
    "    plt.colorbar()\n",
    "    plt.show()\n",
    "\n",
    "    # Preprocess: scale, flatten, reduce\n",
    "    matrix_flat = matrix.flatten().reshape(1, -1)\n",
    "\n",
    "    # Now check shape match\n",
    "    if matrix_flat.shape[1] != scaler.n_features_in_:\n",
    "        raise ValueError(f\"Expected {scaler.n_features_in_} features, but got {matrix_flat.shape[1]}\")\n",
    "\n",
    "    matrix_scaled = scaler.transform(matrix_flat)\n",
    "\n",
    "    # Load trained UMAP model\n",
    "    umap_model = joblib.load(r\"D:\\QCNN\\preprocess\\umap3_model.pkl\")\n",
    "    matrix_umap = umap_model.transform(matrix_scaled)\n",
    "    input_tensor = torch.tensor(matrix_umap, dtype=torch.float32)\n",
    "\n",
    "    # Load model\n",
    "    model = QCNN(11,6, num_classes=3)  # Update num_classes if needed\n",
    "    model.load_state_dict(torch.load(\"qcnn3_model.pth\", map_location=torch.device('cpu')))\n",
    "    model.eval()\n",
    "\n",
    "    # Predict\n",
    "    with torch.no_grad():\n",
    "        output = model(input_tensor)\n",
    "        pred = torch.argmax(output, dim=1).item()\n",
    "\n",
    "    # Define label mapping manually or load from file if saved\n",
    "    label_mapping = {label: idx for idx, label in enumerate(sorted(labels_df['Label'].unique()))}\n",
    "    reverse_label_mapping = {v: k for k, v in label_mapping.items()}\n",
    "    print(label_mapping)\n",
    "\n",
    "    print(f\"Predicted Posture: {reverse_label_mapping.get(pred, 'Unknown')}\")\n",
    "\n",
    "predict_from_file(\"D:/QCNN/experiment-ii/S1/Sponge_Mat/Matrix_Sponge_C1.txt\")"
   ]
  }
 ],
 "metadata": {
  "kernelspec": {
   "display_name": ".venv",
   "language": "python",
   "name": "python3"
  },
  "language_info": {
   "codemirror_mode": {
    "name": "ipython",
    "version": 3
   },
   "file_extension": ".py",
   "mimetype": "text/x-python",
   "name": "python",
   "nbconvert_exporter": "python",
   "pygments_lexer": "ipython3",
   "version": "3.11.4"
  }
 },
 "nbformat": 4,
 "nbformat_minor": 5
}
